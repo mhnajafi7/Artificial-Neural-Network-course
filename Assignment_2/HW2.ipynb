{
 "cells": [
  {
   "cell_type": "markdown",
   "metadata": {},
   "source": [
    "# Neural Network Assignment 2 - spring 2024\n",
    "\n",
    "### Mohammad Hossein Najafi - 97103938\n",
    "---\n",
    "In this assignment, we perform classification on a CSV file using a perceptron. Next, we train the perceptron to detect characters."
   ]
  },
  {
   "cell_type": "markdown",
   "metadata": {},
   "source": [
    "### CSV File"
   ]
  },
  {
   "cell_type": "markdown",
   "metadata": {},
   "source": [
    "#### Prerequisites\n",
    "First, we import the numpy library because we use it to work with arrays. Additionally, we import the pandas and os libraries for reading the CSV file. Lastly, we import matplotlib for plotting."
   ]
  },
  {
   "cell_type": "code",
   "execution_count": 88,
   "metadata": {},
   "outputs": [],
   "source": [
    "import numpy as np\n",
    "import pandas as pd\n",
    "import os\n",
    "import matplotlib.pyplot as plt\n"
   ]
  },
  {
   "cell_type": "code",
   "execution_count": 90,
   "metadata": {},
   "outputs": [
    {
     "data": {
      "text/html": [
       "<div>\n",
       "<style scoped>\n",
       "    .dataframe tbody tr th:only-of-type {\n",
       "        vertical-align: middle;\n",
       "    }\n",
       "\n",
       "    .dataframe tbody tr th {\n",
       "        vertical-align: top;\n",
       "    }\n",
       "\n",
       "    .dataframe thead th {\n",
       "        text-align: right;\n",
       "    }\n",
       "</style>\n",
       "<table border=\"1\" class=\"dataframe\">\n",
       "  <thead>\n",
       "    <tr style=\"text-align: right;\">\n",
       "      <th></th>\n",
       "      <th>x1</th>\n",
       "      <th>x2</th>\n",
       "      <th>y</th>\n",
       "    </tr>\n",
       "  </thead>\n",
       "  <tbody>\n",
       "    <tr>\n",
       "      <th>0</th>\n",
       "      <td>1.028503</td>\n",
       "      <td>0.973218</td>\n",
       "      <td>-1.0</td>\n",
       "    </tr>\n",
       "    <tr>\n",
       "      <th>1</th>\n",
       "      <td>0.252505</td>\n",
       "      <td>0.955872</td>\n",
       "      <td>-1.0</td>\n",
       "    </tr>\n",
       "    <tr>\n",
       "      <th>2</th>\n",
       "      <td>1.508085</td>\n",
       "      <td>0.672058</td>\n",
       "      <td>-1.0</td>\n",
       "    </tr>\n",
       "    <tr>\n",
       "      <th>3</th>\n",
       "      <td>1.940002</td>\n",
       "      <td>1.721370</td>\n",
       "      <td>-1.0</td>\n",
       "    </tr>\n",
       "    <tr>\n",
       "      <th>4</th>\n",
       "      <td>-1.048819</td>\n",
       "      <td>-0.844999</td>\n",
       "      <td>1.0</td>\n",
       "    </tr>\n",
       "    <tr>\n",
       "      <th>...</th>\n",
       "      <td>...</td>\n",
       "      <td>...</td>\n",
       "      <td>...</td>\n",
       "    </tr>\n",
       "    <tr>\n",
       "      <th>395</th>\n",
       "      <td>0.574634</td>\n",
       "      <td>0.782211</td>\n",
       "      <td>-1.0</td>\n",
       "    </tr>\n",
       "    <tr>\n",
       "      <th>396</th>\n",
       "      <td>-1.413307</td>\n",
       "      <td>-0.673049</td>\n",
       "      <td>1.0</td>\n",
       "    </tr>\n",
       "    <tr>\n",
       "      <th>397</th>\n",
       "      <td>-0.465114</td>\n",
       "      <td>-1.290830</td>\n",
       "      <td>1.0</td>\n",
       "    </tr>\n",
       "    <tr>\n",
       "      <th>398</th>\n",
       "      <td>1.522055</td>\n",
       "      <td>0.948007</td>\n",
       "      <td>-1.0</td>\n",
       "    </tr>\n",
       "    <tr>\n",
       "      <th>399</th>\n",
       "      <td>0.834118</td>\n",
       "      <td>0.926710</td>\n",
       "      <td>-1.0</td>\n",
       "    </tr>\n",
       "  </tbody>\n",
       "</table>\n",
       "<p>400 rows × 3 columns</p>\n",
       "</div>"
      ],
      "text/plain": [
       "           x1        x2    y\n",
       "0    1.028503  0.973218 -1.0\n",
       "1    0.252505  0.955872 -1.0\n",
       "2    1.508085  0.672058 -1.0\n",
       "3    1.940002  1.721370 -1.0\n",
       "4   -1.048819 -0.844999  1.0\n",
       "..        ...       ...  ...\n",
       "395  0.574634  0.782211 -1.0\n",
       "396 -1.413307 -0.673049  1.0\n",
       "397 -0.465114 -1.290830  1.0\n",
       "398  1.522055  0.948007 -1.0\n",
       "399  0.834118  0.926710 -1.0\n",
       "\n",
       "[400 rows x 3 columns]"
      ]
     },
     "execution_count": 90,
     "metadata": {},
     "output_type": "execute_result"
    }
   ],
   "source": [
    "df = pd.read_csv('perceptron.csv')  # Load the data from the file\n",
    "df                                  # Display the DataFrame"
   ]
  },
  {
   "cell_type": "markdown",
   "metadata": {},
   "source": [
    "#### Show dataset"
   ]
  },
  {
   "cell_type": "code",
   "execution_count": 91,
   "metadata": {},
   "outputs": [
    {
     "data": {
      "image/png": "[encoded data removed]",
      "text/plain": [
       "<Figure size 640x480 with 2 Axes>"
      ]
     },
     "metadata": {},
     "output_type": "display_data"
    }
   ],
   "source": [
    "df.plot.scatter(x='x1', y='x2', c='y', colormap='viridis') # Plot the data\n",
    "plt.show()  # Display the plot"
   ]
  },
  {
   "cell_type": "markdown",
   "metadata": {},
   "source": [
    "#### Model Definition"
   ]
  },
  {
   "cell_type": "code",
   "execution_count": 92,
   "metadata": {},
   "outputs": [],
   "source": [
    "class perceptron: \n",
    "    def __init__(self):                     # Initialize the perceptron\n",
    "        self.weights = [0.0] * 2            \n",
    "        self.bias = 0.0                     \n",
    "        self.learning_rate =0.01            \n",
    "\n",
    "    def predict(self,X,treshold):           # Define the predict function\n",
    "        y_pred = np.dot(X,self.weights) + self.bias \n",
    "        if y_pred > treshold:\n",
    "            return 1.0\n",
    "        elif y_pred < -treshold:\n",
    "            return -1.0\n",
    "        else :\n",
    "            return 0.0\n",
    "\n",
    "    def train(self, X, y, epoch, treshold):  # Define the train function\n",
    "        for i in range(epoch):\n",
    "            for j in range(len(X)):\n",
    "                y_pred = self.predict(X[j],treshold)\n",
    "                if y_pred != y[j]:\n",
    "                    self.update_weights(y[j],y_pred,X[j])\n",
    "    \n",
    "    def update_weights(self,y,y_pred,X):     # Define the update_weights function\n",
    "        self.weights += self.learning_rate * y * X\n",
    "        self.bias += self.learning_rate * y"
   ]
  },
  {
   "cell_type": "markdown",
   "metadata": {},
   "source": [
    "#### Training\n",
    "First, we shuffle the dataset and then split it into 80% for training and 20% for testing. Then, train the model."
   ]
  },
  {
   "cell_type": "code",
   "execution_count": 129,
   "metadata": {},
   "outputs": [
    {
     "name": "stdout",
     "output_type": "stream",
     "text": [
      "[-0.15277642 -0.15837201]\n",
      "0.009999999999999997\n"
     ]
    }
   ],
   "source": [
    "dataset = df[['x1','x2','y']].values\n",
    "np.random.shuffle(dataset)      # shuffle the dataset\n",
    "dataset = np.array(dataset)\n",
    "\n",
    "number = 320                    # number of training data\n",
    "train_dataset = dataset[:number]\n",
    "test_dataset = dataset[number:]\n",
    "\n",
    "X = np.array(train_dataset[:,:2])       # Feature data\n",
    "y = np.array(train_dataset[:,2])        # Label data\n",
    "\n",
    "model = perceptron()                    # Create a perceptron model\n",
    "epoch = 100\n",
    "treshold = 0.1\n",
    "model.train(X,y,epoch,treshold)         # Train the model\n",
    "print(model.weights)\n",
    "print(model.bias)"
   ]
  },
  {
   "cell_type": "code",
   "execution_count": 130,
   "metadata": {},
   "outputs": [
    {
     "name": "stdout",
     "output_type": "stream",
     "text": [
      "test accuracy: 97.50%\n"
     ]
    }
   ],
   "source": [
    "accuracy = 0\n",
    "for i in range(len(test_dataset)):    # Test the model\n",
    "    if model.predict(test_dataset[i][:2],treshold) == test_dataset[i][2]:\n",
    "        accuracy += 1\n",
    "accuracy = accuracy / len(test_dataset)*100         # Calculate the accuracy\n",
    "\n",
    "print(\"test accuracy: %.2f\" % accuracy + \"%\")"
   ]
  },
  {
   "cell_type": "markdown",
   "metadata": {},
   "source": [
    "With this level of test accuracy, the model generally performs well, and it only fails to correctly detect two points."
   ]
  },
  {
   "cell_type": "markdown",
   "metadata": {},
   "source": [
    "### Show the lines\n",
    "\n",
    "Now, after training, the perceptron classifies the data. It creates three lines: the blue line represents zero and is in the middle. The green line represents '-threshold', and any point above it yields an output of -1. The red line represents '+threshold', and any point below it yields an output of +1. Any point between the red and green lines yields an output of 0."
   ]
  },
  {
   "cell_type": "code",
   "execution_count": 132,
   "metadata": {},
   "outputs": [
    {
     "data": {
      "image/png": "[encoded data removed]",
      "text/plain": [
       "<Figure size 640x480 with 1 Axes>"
      ]
     },
     "metadata": {},
     "output_type": "display_data"
    }
   ],
   "source": [
    "a = np.linspace(-2,2,100)\n",
    "plt.scatter(test_dataset[:,0], test_dataset[:,1], c=test_dataset[:,2], cmap='viridis') # Plot the test data\n",
    "plt.plot(a, (-model.bias - model.weights[0] * a) / model.weights[1], color = 'blue') # Plot the decision boundary\n",
    "plt.plot(a, ((-model.bias - model.weights[0] * a) + treshold) / model.weights[1], color = 'red') # Plot the margin\n",
    "plt.plot(a, ((-model.bias - model.weights[0] * a) - treshold) / model.weights[1], color = 'green') # Plot the margin\n",
    "plt.xlabel('x1')\n",
    "plt.ylabel('x2')\n",
    "plt.show()"
   ]
  },
  {
   "cell_type": "markdown",
   "metadata": {},
   "source": [
    "As expected, only two points in the middle yield incorrect outputs."
   ]
  },
  {
   "cell_type": "markdown",
   "metadata": {},
   "source": [
    "#### small treshold\n",
    "Now, we decrease the threshold to 0.001, then train and test again to see what will happen."
   ]
  },
  {
   "cell_type": "code",
   "execution_count": 144,
   "metadata": {},
   "outputs": [
    {
     "name": "stdout",
     "output_type": "stream",
     "text": [
      "[-0.01414971 -0.02055794]\n",
      "0.0\n"
     ]
    }
   ],
   "source": [
    "model_smaller_treshold = perceptron()  # Create another perceptron model\n",
    "epoch = 100\n",
    "treshold = 0.001\n",
    "model_smaller_treshold.train(X,y,epoch,treshold) # Train the model\n",
    "\n",
    "print(model_smaller_treshold.weights)\n",
    "print(model_smaller_treshold.bias)"
   ]
  },
  {
   "cell_type": "code",
   "execution_count": 145,
   "metadata": {},
   "outputs": [
    {
     "name": "stdout",
     "output_type": "stream",
     "text": [
      "test accuracy: 100.00%\n"
     ]
    }
   ],
   "source": [
    "accuracy = 0\n",
    "for i in range(len(test_dataset)): # Test the model\n",
    "    if model_smaller_treshold.predict(test_dataset[i][:2],treshold) == test_dataset[i][2]:\n",
    "        accuracy += 1\n",
    "accuracy = accuracy / len(test_dataset)*100\n",
    "\n",
    "print(\"test accuracy: %.2f\" % accuracy + \"%\")"
   ]
  },
  {
   "cell_type": "markdown",
   "metadata": {},
   "source": [
    "By decreasing the threshold, the accuracy increased. I believe this is because the boundary of the margin decreased, causing the two previously incorrect points to exit the zero area and yield the correct output now."
   ]
  },
  {
   "cell_type": "code",
   "execution_count": 146,
   "metadata": {},
   "outputs": [
    {
     "data": {
      "image/png": "[encoded data removed]",
      "text/plain": [
       "<Figure size 640x480 with 1 Axes>"
      ]
     },
     "metadata": {},
     "output_type": "display_data"
    }
   ],
   "source": [
    "a = np.linspace(-2,2,100)\n",
    "plt.scatter(test_dataset[:,0], test_dataset[:,1], c=test_dataset[:,2], cmap='viridis') # Plot the test data\n",
    "plt.plot(a, (-model_smaller_treshold.bias - model_smaller_treshold.weights[0] * a) / model_smaller_treshold.weights[1], color = 'blue') # Plot the decision boundary\n",
    "plt.plot(a, ((-model_smaller_treshold.bias - model_smaller_treshold.weights[0] * a) + treshold) / model_smaller_treshold.weights[1], color = 'red') # Plot the margin\n",
    "plt.plot(a, ((-model_smaller_treshold.bias - model_smaller_treshold.weights[0] * a) - treshold) / model_smaller_treshold.weights[1], color = 'red') # Plot the margin\n",
    "plt.xlabel('x1')\n",
    "plt.ylabel('x2')\n",
    "plt.show()"
   ]
  },
  {
   "cell_type": "markdown",
   "metadata": {},
   "source": [
    "The plot also indicates that the margin has decreased."
   ]
  },
  {
   "cell_type": "markdown",
   "metadata": {},
   "source": [
    "#### big treshold\n",
    "Now, we increase the threshold to 100, then train and test again to see what will happen."
   ]
  },
  {
   "cell_type": "code",
   "execution_count": 149,
   "metadata": {},
   "outputs": [
    {
     "name": "stdout",
     "output_type": "stream",
     "text": [
      "[-77.57801694 -77.30432832]\n",
      "1.7700000000000014\n"
     ]
    }
   ],
   "source": [
    "model_bigger_treshold = perceptron() # Create another perceptron model\n",
    "epoch = 100\n",
    "treshold = 100\n",
    "model_bigger_treshold.train(X,y,epoch,treshold) # Train the model\n",
    "\n",
    "print(model_bigger_treshold.weights)\n",
    "print(model_bigger_treshold.bias)"
   ]
  },
  {
   "cell_type": "code",
   "execution_count": 151,
   "metadata": {},
   "outputs": [
    {
     "name": "stdout",
     "output_type": "stream",
     "text": [
      "test accuracy: 92.50%\n"
     ]
    }
   ],
   "source": [
    "accuracy = 0\n",
    "for i in range(len(test_dataset)):  # Test the model\n",
    "    if model_bigger_treshold.predict(test_dataset[i][:2],treshold) == test_dataset[i][2]:\n",
    "        accuracy += 1\n",
    "accuracy = accuracy / len(test_dataset)*100\n",
    "\n",
    "print(\"test accuracy: %.2f\" % accuracy + \"%\")"
   ]
  },
  {
   "cell_type": "markdown",
   "metadata": {},
   "source": [
    "As expected, the accuracy decreased because the margin increased (6 wrong points)."
   ]
  },
  {
   "cell_type": "code",
   "execution_count": 152,
   "metadata": {},
   "outputs": [
    {
     "data": {
      "image/png": "[encoded data removed]",
      "text/plain": [
       "<Figure size 640x480 with 1 Axes>"
      ]
     },
     "metadata": {},
     "output_type": "display_data"
    }
   ],
   "source": [
    "a = np.linspace(-2,2,100)\n",
    "plt.scatter(test_dataset[:,0], test_dataset[:,1], c=test_dataset[:,2], cmap='viridis') # Plot the test data\n",
    "plt.plot(a, (-model_bigger_treshold.bias - model_bigger_treshold.weights[0] * a) / model_bigger_treshold.weights[1], color = 'blue') # Plot the decision boundary\n",
    "plt.plot(a, ((-model_bigger_treshold.bias - model_bigger_treshold.weights[0] * a) + treshold) / model_bigger_treshold.weights[1], color = 'red') # Plot the margin\n",
    "plt.plot(a, ((-model_bigger_treshold.bias - model_bigger_treshold.weights[0] * a) - treshold) / model_bigger_treshold.weights[1], color = 'red') # Plot the margin\n",
    "plt.xlabel('x1')\n",
    "plt.ylabel('x2')\n",
    "plt.show()"
   ]
  },
  {
   "cell_type": "markdown",
   "metadata": {},
   "source": [
    "we can observe six points located in the incorrect area."
   ]
  },
  {
   "cell_type": "markdown",
   "metadata": {},
   "source": [
    "### Character Detection"
   ]
  },
  {
   "cell_type": "markdown",
   "metadata": {},
   "source": [
    "#### Fonts\n",
    "First, we define fonts with a 63 cell array (7*9 resolution) and display them."
   ]
  },
  {
   "cell_type": "code",
   "execution_count": 156,
   "metadata": {},
   "outputs": [],
   "source": [
    "# definition of a function to display a font\n",
    "def show_font(font):\n",
    "    for pixel in np.arange(0, 63):\n",
    "        if pixel % 9 == 0:\n",
    "            print()\n",
    "        if font[pixel] == 1:\n",
    "            print(\"\\u2588\", end=\"\")\n",
    "        else:\n",
    "            print(\" \", end=\"\")"
   ]
  },
  {
   "cell_type": "code",
   "execution_count": 157,
   "metadata": {},
   "outputs": [
    {
     "name": "stdout",
     "output_type": "stream",
     "text": [
      "\n",
      "████████ \n",
      "█       █\n",
      "█████████\n",
      "█       █\n",
      "█       █\n",
      "█       █\n",
      "████████ \n",
      "\n",
      "███████  \n",
      "█      █ \n",
      "█      █ \n",
      "████████ \n",
      "█      █ \n",
      "█      █ \n",
      "████████ \n",
      "\n",
      " ███████ \n",
      " █      █\n",
      " ███████ \n",
      " █      █\n",
      " █      █\n",
      " █      █\n",
      " ███████ "
     ]
    }
   ],
   "source": [
    "# Dataset of the letter B\n",
    "font_b_1=[\n",
    "    1, 1, 1, 1, 1, 1, 1, 1, 0,\n",
    "    1, 0, 0, 0, 0, 0, 0, 0, 1,\n",
    "    1, 1, 1, 1, 1, 1, 1, 1, 1,\n",
    "    1, 0, 0, 0, 0, 0, 0, 0, 1,\n",
    "    1, 0, 0, 0, 0, 0, 0, 0, 1,\n",
    "    1, 0, 0, 0, 0, 0, 0, 0, 1,\n",
    "    1, 1, 1, 1, 1, 1, 1, 1, 0\n",
    "]\n",
    "show_font(font_b_1)\n",
    "print()\n",
    "\n",
    "font_b_2=[\n",
    "    1, 1, 1, 1, 1, 1, 1, 0, 0,\n",
    "    1, 0, 0, 0, 0, 0, 0, 1, 0,\n",
    "    1, 0, 0, 0, 0, 0, 0, 1, 0,\n",
    "    1, 1, 1, 1, 1, 1, 1, 1, 0,\n",
    "    1, 0, 0, 0, 0, 0, 0, 1, 0,\n",
    "    1, 0, 0, 0, 0, 0, 0, 1, 0,\n",
    "    1, 1, 1, 1, 1, 1, 1, 1, 0\n",
    "]\n",
    "show_font(font_b_2)\n",
    "\n",
    "print()\n",
    "font_b_3=[\n",
    "    0, 1, 1, 1, 1, 1, 1, 1, 0,\n",
    "    0, 1, 0, 0, 0, 0, 0, 0, 1,\n",
    "    0, 1, 1, 1, 1, 1, 1, 1, 0,\n",
    "    0, 1, 0, 0, 0, 0, 0, 0, 1,\n",
    "    0, 1, 0, 0, 0, 0, 0, 0, 1,\n",
    "    0, 1, 0, 0, 0, 0, 0, 0, 1,\n",
    "    0, 1, 1, 1, 1, 1, 1, 1, 0\n",
    "]\n",
    "show_font(font_b_3)"
   ]
  },
  {
   "cell_type": "code",
   "execution_count": 158,
   "metadata": {},
   "outputs": [
    {
     "name": "stdout",
     "output_type": "stream",
     "text": [
      "\n",
      " ███████ \n",
      "█████████\n",
      "██       \n",
      "██       \n",
      "██       \n",
      "█████████\n",
      " ███████ \n",
      "\n",
      "██████   \n",
      "███████  \n",
      "██       \n",
      "██       \n",
      "██       \n",
      "███████  \n",
      "██████   \n",
      "\n",
      "█████████\n",
      "█████████\n",
      "██       \n",
      "██       \n",
      "██       \n",
      "█████████\n",
      "█████████"
     ]
    }
   ],
   "source": [
    "# Dataset of the letter C\n",
    "font_c_1 = [\n",
    "    0, 1, 1, 1, 1, 1, 1, 1, 0,\n",
    "    1, 1, 1, 1, 1, 1, 1, 1, 1,\n",
    "    1, 1, 0, 0, 0, 0, 0, 0, 0,\n",
    "    1, 1, 0, 0, 0, 0, 0, 0, 0,\n",
    "    1, 1, 0, 0, 0, 0, 0, 0, 0,\n",
    "    1, 1, 1, 1, 1, 1, 1, 1, 1,\n",
    "    0, 1, 1, 1, 1, 1, 1, 1, 0\n",
    "]\n",
    "show_font(font_c_1)\n",
    "print()\n",
    "font_c_2 = [\n",
    "    1, 1, 1, 1, 1, 1, 0, 0, 0,\n",
    "    1, 1, 1, 1, 1, 1, 1, 0, 0,\n",
    "    1, 1, 0, 0, 0, 0, 0, 0, 0,\n",
    "    1, 1, 0, 0, 0, 0, 0, 0, 0,\n",
    "    1, 1, 0, 0, 0, 0, 0, 0, 0,\n",
    "    1, 1, 1, 1, 1, 1, 1, 0, 0,\n",
    "    1, 1, 1, 1, 1, 1, 0, 0, 0\n",
    "]\n",
    "show_font(font_c_2)\n",
    "print()\n",
    "font_c_3 = [\n",
    "    1, 1, 1, 1, 1, 1, 1, 1, 1,\n",
    "    1, 1, 1, 1, 1, 1, 1, 1, 1,\n",
    "    1, 1, 0, 0, 0, 0, 0, 0, 0,\n",
    "    1, 1, 0, 0, 0, 0, 0, 0, 0,\n",
    "    1, 1, 0, 0, 0, 0, 0, 0, 0,\n",
    "    1, 1, 1, 1, 1, 1, 1, 1, 1,\n",
    "    1, 1, 1, 1, 1, 1, 1, 1, 1\n",
    "]\n",
    "show_font(font_c_3)"
   ]
  },
  {
   "cell_type": "code",
   "execution_count": 159,
   "metadata": {},
   "outputs": [
    {
     "name": "stdout",
     "output_type": "stream",
     "text": [
      "\n",
      "█████████\n",
      "██      █\n",
      "██      █\n",
      "██      █\n",
      "██      █\n",
      "██      █\n",
      "█████████\n",
      "\n",
      "███████  \n",
      "██    ██ \n",
      "██    ██ \n",
      "██    ██ \n",
      "██    ██ \n",
      "██    ██ \n",
      "███████  \n",
      "\n",
      " ███████ \n",
      " ██    ██\n",
      " ██    ██\n",
      " ██    ██\n",
      " ██    ██\n",
      " ██    ██\n",
      " ███████ "
     ]
    }
   ],
   "source": [
    "# Dataset of the letter D\n",
    "font_d_1 = [\n",
    "    1, 1, 1, 1, 1, 1, 1, 1, 1,\n",
    "    1, 1, 0, 0, 0, 0, 0, 0, 1,\n",
    "    1, 1, 0, 0, 0, 0, 0, 0, 1,\n",
    "    1, 1, 0, 0, 0, 0, 0, 0, 1,\n",
    "    1, 1, 0, 0, 0, 0, 0, 0, 1,\n",
    "    1, 1, 0, 0, 0, 0, 0, 0, 1,\n",
    "    1, 1, 1, 1, 1, 1, 1, 1, 1\n",
    "]\n",
    "show_font(font_d_1)\n",
    "print()\n",
    "\n",
    "font_d_2 = [\n",
    "    1, 1, 1, 1, 1, 1, 1, 0, 0,\n",
    "    1, 1, 0, 0, 0, 0, 1, 1, 0,\n",
    "    1, 1, 0, 0, 0, 0, 1, 1, 0,\n",
    "    1, 1, 0, 0, 0, 0, 1, 1, 0,\n",
    "    1, 1, 0, 0, 0, 0, 1, 1, 0,\n",
    "    1, 1, 0, 0, 0, 0, 1, 1, 0,\n",
    "    1, 1, 1, 1, 1, 1, 1, 0, 0\n",
    "]\n",
    "show_font(font_d_2)\n",
    "print()\n",
    "\n",
    "font_d_3 = [\n",
    "    0, 1, 1, 1, 1, 1, 1, 1, 0,\n",
    "    0, 1, 1, 0, 0, 0, 0, 1, 1,\n",
    "    0, 1, 1, 0, 0, 0, 0, 1, 1,\n",
    "    0, 1, 1, 0, 0, 0, 0, 1, 1,\n",
    "    0, 1, 1, 0, 0, 0, 0, 1, 1,\n",
    "    0, 1, 1, 0, 0, 0, 0, 1, 1,\n",
    "    0, 1, 1, 1, 1, 1, 1, 1, 0\n",
    "]\n",
    "show_font(font_d_3)\n"
   ]
  },
  {
   "cell_type": "code",
   "execution_count": 160,
   "metadata": {},
   "outputs": [
    {
     "name": "stdout",
     "output_type": "stream",
     "text": [
      "\n",
      " █       \n",
      " █       \n",
      " █       \n",
      " █       \n",
      " ██████  \n",
      "         \n",
      "         10\n",
      "\n",
      " █       \n",
      " █       \n",
      " █       \n",
      " █       \n",
      " █       \n",
      " █       \n",
      " █████   \n",
      "  █      \n",
      "  █      \n",
      "  █      \n",
      "  █      \n",
      "  █      \n",
      "  █      \n",
      "  ███████"
     ]
    }
   ],
   "source": [
    "# Dataset of the letter L\n",
    "font_l_1 = [\n",
    "    0, 1, 0, 0, 0, 0, 0, 0, 0,\n",
    "    0, 1, 0, 0, 0, 0, 0, 0, 0,\n",
    "    0, 1, 0, 0, 0, 0, 0, 0, 0,\n",
    "    0, 1, 0, 0, 0, 0, 0, 0, 0,\n",
    "    0, 1, 1, 1, 1, 1, 1, 0, 0,\n",
    "    0, 0, 0, 0, 0, 0, 0, 0, 0,\n",
    "    0, 0, 0, 0, 0, 0, 0, 0, 0\n",
    "]\n",
    "show_font(font_l_1)\n",
    "print(sum(font_l_1))\n",
    "\n",
    "font_l_2 = [\n",
    "    0, 1, 0, 0, 0, 0, 0, 0, 0,\n",
    "    0, 1, 0, 0, 0, 0, 0, 0, 0,\n",
    "    0, 1, 0, 0, 0, 0, 0, 0, 0,\n",
    "    0, 1, 0, 0, 0, 0, 0, 0, 0,\n",
    "    0, 1, 0, 0, 0, 0, 0, 0, 0,\n",
    "    0, 1, 0, 0, 0, 0, 0, 0, 0,\n",
    "    0, 1, 1, 1, 1, 1, 0, 0, 0\n",
    "]\n",
    "show_font(font_l_2)\n",
    "\n",
    "font_l_3 = [\n",
    "    0, 0, 1, 0, 0, 0, 0, 0, 0,\n",
    "    0, 0, 1, 0, 0, 0, 0, 0, 0,\n",
    "    0, 0, 1, 0, 0, 0, 0, 0, 0,\n",
    "    0, 0, 1, 0, 0, 0, 0, 0, 0,\n",
    "    0, 0, 1, 0, 0, 0, 0, 0, 0,\n",
    "    0, 0, 1, 0, 0, 0, 0, 0, 0,\n",
    "    0, 0, 1, 1, 1, 1, 1, 1, 1\n",
    "]\n",
    "show_font(font_l_3)"
   ]
  },
  {
   "cell_type": "code",
   "execution_count": 161,
   "metadata": {},
   "outputs": [
    {
     "name": "stdout",
     "output_type": "stream",
     "text": [
      "\n",
      "██      █\n",
      "█ █     █\n",
      "█  █    █\n",
      "█   █   █\n",
      "█    █  █\n",
      "█     █ █\n",
      "█      ██\n",
      "  █     █\n",
      "  ██    █\n",
      "  █ █   █\n",
      "  █  █  █\n",
      "  █   █ █\n",
      "  █    ██\n",
      "  █     █\n",
      "█     █  \n",
      "██    █  \n",
      "█ █   █  \n",
      "█  █  █  \n",
      "█   █ █  \n",
      "█    ██  \n",
      "█     █  "
     ]
    }
   ],
   "source": [
    "# Dataset of the letter N\n",
    "font_n_1 = [\n",
    "    1, 1, 0, 0, 0, 0, 0, 0, 1,\n",
    "    1, 0, 1, 0, 0, 0, 0, 0, 1,\n",
    "    1, 0, 0, 1, 0, 0, 0, 0, 1,\n",
    "    1, 0, 0, 0, 1, 0, 0, 0, 1,\n",
    "    1, 0, 0, 0, 0, 1, 0, 0, 1,\n",
    "    1, 0, 0, 0, 0, 0, 1, 0, 1,\n",
    "    1, 0, 0, 0, 0, 0, 0, 1, 1\n",
    "]\n",
    "show_font(font_n_1)\n",
    "\n",
    "font_n_2 = [\n",
    "    0, 0, 1, 0, 0, 0, 0, 0, 1,\n",
    "    0, 0, 1, 1, 0, 0, 0, 0, 1,\n",
    "    0, 0, 1, 0, 1, 0, 0, 0, 1,\n",
    "    0, 0, 1, 0, 0, 1, 0, 0, 1,\n",
    "    0, 0, 1, 0, 0, 0, 1, 0, 1,\n",
    "    0, 0, 1, 0, 0, 0, 0, 1, 1,\n",
    "    0, 0, 1, 0, 0, 0, 0, 0, 1\n",
    "]\n",
    "show_font(font_n_2)\n",
    "\n",
    "font_n_3 = [\n",
    "    1, 0, 0, 0, 0, 0, 1, 0, 0,\n",
    "    1, 1, 0, 0, 0, 0, 1, 0, 0,\n",
    "    1, 0, 1, 0, 0, 0, 1, 0, 0,\n",
    "    1, 0, 0, 1, 0, 0, 1, 0, 0,\n",
    "    1, 0, 0, 0, 1, 0, 1, 0, 0,\n",
    "    1, 0, 0, 0, 0, 1, 1, 0, 0,\n",
    "    1, 0, 0, 0, 0, 0, 1, 0, 0\n",
    "]\n",
    "show_font(font_n_3)"
   ]
  },
  {
   "cell_type": "markdown",
   "metadata": {},
   "source": [
    "#### Bipolar encoding\n",
    "For bipolar encoding, it suffices to use a function that replaces zero arrays with -1 for patterns."
   ]
  },
  {
   "cell_type": "code",
   "execution_count": 162,
   "metadata": {},
   "outputs": [],
   "source": [
    "# Create the patterns array\n",
    "def replace_zero(array):\n",
    "  array = np.where(array==0,-1,array)\n",
    "  return array\n",
    "\n",
    "patterns = replace_zero(np.array([font_b_1, font_b_2, font_b_3, font_c_1, font_c_2, font_c_3, font_d_1, font_d_2, font_d_3, font_l_1, font_l_2, font_l_3, font_n_1, font_n_2, font_n_3]))"
   ]
  },
  {
   "cell_type": "markdown",
   "metadata": {},
   "source": [
    "#### Define target\n",
    "Now, we define binary target arrays where each array represents a neuron target class."
   ]
  },
  {
   "cell_type": "code",
   "execution_count": 167,
   "metadata": {},
   "outputs": [],
   "source": [
    "# Each array has 15 elements with 1s at specific indices indicating the presence of the target.\n",
    "# The indices are as follows: 0-2: B, 3-5: C, 6-8: D, 9-11: L, 12-14: N\n",
    "target_b = [ 1, 1, 1,  -1,-1,-1,  -1,-1,-1, -1,-1,-1, -1,-1,-1]\n",
    "target_c = [-1,-1,-1,   1, 1, 1,  -1,-1,-1, -1,-1,-1, -1,-1,-1]\n",
    "target_d = [-1,-1,-1,  -1,-1,-1,   1, 1, 1, -1,-1,-1, -1,-1,-1]\n",
    "target_l = [-1,-1,-1,  -1,-1,-1,  -1,-1,-1,  1, 1, 1, -1,-1,-1]\n",
    "target_n = [-1,-1,-1,  -1,-1,-1,  -1,-1,-1, -1,-1,-1,  1, 1, 1]\n",
    "\n",
    "# Create a numpy array 'output_target' containing all the target arrays as rows.\n",
    "output_target= np.array([target_b,target_c,target_d,target_l,target_n])"
   ]
  },
  {
   "cell_type": "markdown",
   "metadata": {},
   "source": [
    "#### Define model"
   ]
  },
  {
   "cell_type": "code",
   "execution_count": 168,
   "metadata": {},
   "outputs": [],
   "source": [
    "class character_perceptron:     # Define the character_perceptron class\n",
    "    def __init__(self):\n",
    "        self.weights = [0.0] * 63\n",
    "        self.bias = 0.0\n",
    "        self.treshold =0.3\n",
    "\n",
    "    def predict(self,X):        # Define the predict function\n",
    "        y_pred = np.dot(X,self.weights) + self.bias\n",
    "        if y_pred > self.treshold:\n",
    "            return 1.0\n",
    "        elif y_pred < -self.treshold:\n",
    "            return -1.0\n",
    "        else :\n",
    "            return 0.0\n",
    "\n",
    "    def train(self, X, y, epoch, learning_rate):  # Define the train function\n",
    "        for i in range(epoch):\n",
    "            for j in range(len(X)):\n",
    "                y_pred = self.predict(X[j])\n",
    "                if y_pred != y[j]:\n",
    "                    self.update_weights(y[j],y_pred,X[j],learning_rate)\n",
    "    \n",
    "    def update_weights(self,y,y_pred,X,learning_rate):    # Define the update_weights function\n",
    "        self.weights += learning_rate * y * X\n",
    "        self.bias += learning_rate * y"
   ]
  },
  {
   "cell_type": "code",
   "execution_count": 169,
   "metadata": {},
   "outputs": [],
   "source": [
    "neuron_b = character_perceptron()\n",
    "neuron_c = character_perceptron()\n",
    "neuron_d = character_perceptron()\n",
    "neuron_l = character_perceptron()\n",
    "neuron_n = character_perceptron()"
   ]
  },
  {
   "cell_type": "markdown",
   "metadata": {},
   "source": [
    "#### Training\n",
    "We train the neurons by all of the fonts."
   ]
  },
  {
   "cell_type": "code",
   "execution_count": 170,
   "metadata": {},
   "outputs": [],
   "source": [
    "X = patterns\n",
    "y = output_target\n",
    "learning_rate = 0.01\n",
    "epoch = 25 \n",
    "for i in range(5):  # Train the perceptrons\n",
    "    neuron_b.train(X,y[0],epoch,learning_rate)\n",
    "    neuron_c.train(X,y[1],epoch,learning_rate)\n",
    "    neuron_d.train(X,y[2],epoch,learning_rate)\n",
    "    neuron_l.train(X,y[3],epoch,learning_rate)\n",
    "    neuron_n.train(X,y[4],epoch,learning_rate)\n"
   ]
  },
  {
   "cell_type": "markdown",
   "metadata": {},
   "source": [
    "#### Testing\n",
    "Also, we test the neurons by all of the fonts."
   ]
  },
  {
   "cell_type": "code",
   "execution_count": 172,
   "metadata": {},
   "outputs": [
    {
     "name": "stdout",
     "output_type": "stream",
     "text": [
      "Accuracy of B: 100.00%\n",
      "Accuracy of C: 100.00%\n",
      "Accuracy of D: 100.00%\n",
      "Accuracy of L: 100.00%\n",
      "Accuracy of N: 100.00%\n",
      "\n",
      "Total accuracy: 100.00%\n"
     ]
    }
   ],
   "source": [
    "accuracy_b = 0\n",
    "for i in range(len(X)):     # Test the B perceptron\n",
    "    if neuron_b.predict(X[i]) == y[0][i]:\n",
    "        accuracy_b += 1\n",
    "\n",
    "accuracy_c = 0\n",
    "for i in range(len(X)):     # Test the c perceptron\n",
    "    if neuron_c.predict(X[i]) == y[1][i]:\n",
    "        accuracy_c += 1\n",
    "\n",
    "accuracy_d = 0\n",
    "for i in range(len(X)):     # Test the D perceptron\n",
    "    if neuron_d.predict(X[i]) == y[2][i]:\n",
    "        accuracy_d += 1\n",
    "\n",
    "accuracy_l = 0\n",
    "for i in range(len(X)):     # Test the L perceptron\n",
    "    if neuron_l.predict(X[i]) == y[3][i]:\n",
    "        accuracy_l += 1\n",
    "\n",
    "accuracy_n = 0\n",
    "for i in range(len(X)):     # Test the N perceptron\n",
    "    if neuron_n.predict(X[i]) == y[4][i]:\n",
    "        accuracy_n += 1\n",
    "\n",
    "print(\"Accuracy of B: %.2f\" % (accuracy_b/len(X)*100) + \"%\")\n",
    "print(\"Accuracy of C: %.2f\" % (accuracy_c/len(X)*100) + \"%\")\n",
    "print(\"Accuracy of D: %.2f\" % (accuracy_d/len(X)*100) + \"%\")\n",
    "print(\"Accuracy of L: %.2f\" % (accuracy_l/len(X)*100) + \"%\")\n",
    "print(\"Accuracy of N: %.2f\" % (accuracy_n/len(X)*100) + \"%\")\n",
    "\n",
    "print()\n",
    "print(\"Total accuracy: %.2f\" % ((accuracy_b+accuracy_c+accuracy_d+accuracy_l+accuracy_n)/(5*len(X))*100) + \"%\")"
   ]
  },
  {
   "cell_type": "markdown",
   "metadata": {},
   "source": [
    "#### MSE\n",
    "Now, we calculate the MSE using the formula provided in the question."
   ]
  },
  {
   "cell_type": "code",
   "execution_count": 173,
   "metadata": {},
   "outputs": [],
   "source": [
    "# predict the fonts in each neuron by (X . weights + bias)\n",
    "predicted_values_b = []     \n",
    "predicted_values_c = []\n",
    "predicted_values_d = []\n",
    "predicted_values_l = []\n",
    "predicted_values_n = []\n",
    "\n",
    "for i in range(len(X)):\n",
    "    predicted_values_b.append(np.dot(X[i],neuron_b.weights) + neuron_b.bias)\n",
    "    predicted_values_c.append(np.dot(X[i],neuron_c.weights) + neuron_c.bias)\n",
    "    predicted_values_d.append(np.dot(X[i],neuron_d.weights) + neuron_d.bias)\n",
    "    predicted_values_l.append(np.dot(X[i],neuron_l.weights) + neuron_l.bias)\n",
    "    predicted_values_n.append(np.dot(X[i],neuron_n.weights) + neuron_n.bias)\n"
   ]
  },
  {
   "cell_type": "code",
   "execution_count": 174,
   "metadata": {},
   "outputs": [
    {
     "name": "stdout",
     "output_type": "stream",
     "text": [
      "Mean Squared Error of B: 1.73\n",
      "Mean Squared Error of C: 1.64\n",
      "Mean Squared Error of D: 2.76\n",
      "Mean Squared Error of L: 2.69\n",
      "Mean Squared Error of N: 1.44\n"
     ]
    }
   ],
   "source": [
    "mse_b =[]\n",
    "mse_c =[]\n",
    "mse_d =[]\n",
    "mse_l =[]\n",
    "mse_n =[]\n",
    "\n",
    "for i in range(len(X)): # Calculate the mean squared error\n",
    "    mse_b.append((y[0][i] - predicted_values_b[i])**2)\n",
    "    mse_c.append((y[1][i] - predicted_values_c[i])**2)\n",
    "    mse_d.append((y[2][i] - predicted_values_d[i])**2)\n",
    "    mse_l.append((y[3][i] - predicted_values_l[i])**2)\n",
    "    mse_n.append((y[4][i] - predicted_values_n[i])**2)\n",
    "\n",
    "print(\"Mean Squared Error of B: %.2f\" % sum(mse_b))\n",
    "print(\"Mean Squared Error of C: %.2f\" % sum(mse_c))\n",
    "print(\"Mean Squared Error of D: %.2f\" % sum(mse_d))\n",
    "print(\"Mean Squared Error of L: %.2f\" % sum(mse_l))\n",
    "print(\"Mean Squared Error of N: %.2f\" % sum(mse_n))\n",
    "      "
   ]
  },
  {
   "cell_type": "markdown",
   "metadata": {},
   "source": [
    "#### big learning rate\n",
    "Now, we increase learning rate to 0.99."
   ]
  },
  {
   "cell_type": "code",
   "execution_count": 179,
   "metadata": {},
   "outputs": [
    {
     "name": "stdout",
     "output_type": "stream",
     "text": [
      "Accuracy of B: 100.00%\n",
      "Accuracy of C: 100.00%\n",
      "Accuracy of D: 100.00%\n",
      "Accuracy of L: 100.00%\n",
      "Accuracy of N: 100.00%\n",
      "\n",
      "Total accuracy: 100.00%\n"
     ]
    }
   ],
   "source": [
    "neuron_b = character_perceptron()\n",
    "neuron_c = character_perceptron()\n",
    "neuron_d = character_perceptron()\n",
    "neuron_l = character_perceptron()\n",
    "neuron_n = character_perceptron()\n",
    "\n",
    "X = patterns\n",
    "y = output_target\n",
    "learning_rate = 0.99\n",
    "epoch = 25\n",
    "for i in range(5):\n",
    "    neuron_b.train(X,y[0],epoch,learning_rate)\n",
    "    neuron_c.train(X,y[1],epoch,learning_rate)\n",
    "    neuron_d.train(X,y[2],epoch,learning_rate)\n",
    "    neuron_l.train(X,y[3],epoch,learning_rate)\n",
    "    neuron_n.train(X,y[4],epoch,learning_rate)\n",
    "\n",
    "accuracy_b = 0\n",
    "for i in range(len(X)):\n",
    "    if neuron_b.predict(X[i]) == y[0][i]:\n",
    "        accuracy_b += 1\n",
    "\n",
    "accuracy_c = 0\n",
    "for i in range(len(X)):\n",
    "    if neuron_c.predict(X[i]) == y[1][i]:\n",
    "        accuracy_c += 1\n",
    "\n",
    "accuracy_d = 0\n",
    "for i in range(len(X)):\n",
    "    if neuron_d.predict(X[i]) == y[2][i]:\n",
    "        accuracy_d += 1\n",
    "\n",
    "accuracy_l = 0\n",
    "for i in range(len(X)):\n",
    "    if neuron_l.predict(X[i]) == y[3][i]:\n",
    "        accuracy_l += 1\n",
    "\n",
    "accuracy_n = 0\n",
    "for i in range(len(X)):\n",
    "    if neuron_n.predict(X[i]) == y[4][i]:\n",
    "        accuracy_n += 1\n",
    "\n",
    "print(\"Accuracy of B: %.2f\" % (accuracy_b/len(X)*100) + \"%\")\n",
    "print(\"Accuracy of C: %.2f\" % (accuracy_c/len(X)*100) + \"%\")\n",
    "print(\"Accuracy of D: %.2f\" % (accuracy_d/len(X)*100) + \"%\")\n",
    "print(\"Accuracy of L: %.2f\" % (accuracy_l/len(X)*100) + \"%\")\n",
    "print(\"Accuracy of N: %.2f\" % (accuracy_n/len(X)*100) + \"%\")\n",
    "\n",
    "print()\n",
    "print(\"Total accuracy: %.2f\" % ((accuracy_b+accuracy_c+accuracy_d+accuracy_l+accuracy_n)/(5*len(X))*100) + \"%\")"
   ]
  },
  {
   "cell_type": "code",
   "execution_count": 180,
   "metadata": {},
   "outputs": [
    {
     "name": "stdout",
     "output_type": "stream",
     "text": [
      "Mean Squared Error of B: 30777.90\n",
      "Mean Squared Error of C: 23996.80\n",
      "Mean Squared Error of D: 33451.02\n",
      "Mean Squared Error of L: 44340.51\n",
      "Mean Squared Error of N: 33537.43\n"
     ]
    }
   ],
   "source": [
    "predicted_values_b = []\n",
    "predicted_values_c = []\n",
    "predicted_values_d = []\n",
    "predicted_values_l = []\n",
    "predicted_values_n = []\n",
    "\n",
    "for i in range(len(X)):\n",
    "    predicted_values_b.append(np.dot(X[i],neuron_b.weights) + neuron_b.bias)\n",
    "    predicted_values_c.append(np.dot(X[i],neuron_c.weights) + neuron_c.bias)\n",
    "    predicted_values_d.append(np.dot(X[i],neuron_d.weights) + neuron_d.bias)\n",
    "    predicted_values_l.append(np.dot(X[i],neuron_l.weights) + neuron_l.bias)\n",
    "    predicted_values_n.append(np.dot(X[i],neuron_n.weights) + neuron_n.bias)\n",
    "\n",
    "mse_b =[]\n",
    "mse_c =[]\n",
    "mse_d =[]\n",
    "mse_l =[]\n",
    "mse_n =[]\n",
    "\n",
    "for i in range(len(X)):\n",
    "    mse_b.append((y[0][i] - predicted_values_b[i])**2)\n",
    "    mse_c.append((y[1][i] - predicted_values_c[i])**2)\n",
    "    mse_d.append((y[2][i] - predicted_values_d[i])**2)\n",
    "    mse_l.append((y[3][i] - predicted_values_l[i])**2)\n",
    "    mse_n.append((y[4][i] - predicted_values_n[i])**2)\n",
    "\n",
    "print(\"Mean Squared Error of B: %.2f\" % sum(mse_b))\n",
    "print(\"Mean Squared Error of C: %.2f\" % sum(mse_c))\n",
    "print(\"Mean Squared Error of D: %.2f\" % sum(mse_d))\n",
    "print(\"Mean Squared Error of L: %.2f\" % sum(mse_l))\n",
    "print(\"Mean Squared Error of N: %.2f\" % sum(mse_n))\n",
    "      "
   ]
  },
  {
   "cell_type": "markdown",
   "metadata": {},
   "source": [
    "We observe a significant increase in the MSE."
   ]
  },
  {
   "cell_type": "markdown",
   "metadata": {},
   "source": [
    "#### small learning rate\n",
    "Now, we decrease learning rate to 0.001."
   ]
  },
  {
   "cell_type": "code",
   "execution_count": 181,
   "metadata": {},
   "outputs": [
    {
     "name": "stdout",
     "output_type": "stream",
     "text": [
      "Accuracy of B: 100.00%\n",
      "Accuracy of C: 100.00%\n",
      "Accuracy of D: 100.00%\n",
      "Accuracy of L: 100.00%\n",
      "Accuracy of N: 100.00%\n",
      "\n",
      "Total accuracy: 100.00%\n"
     ]
    }
   ],
   "source": [
    "neuron_b = character_perceptron()\n",
    "neuron_c = character_perceptron()\n",
    "neuron_d = character_perceptron()\n",
    "neuron_l = character_perceptron()\n",
    "neuron_n = character_perceptron()\n",
    "\n",
    "X = patterns\n",
    "y = output_target\n",
    "learning_rate = 0.001\n",
    "epoch = 25\n",
    "for i in range(5):\n",
    "    neuron_b.train(X,y[0],epoch,learning_rate)\n",
    "    neuron_c.train(X,y[1],epoch,learning_rate)\n",
    "    neuron_d.train(X,y[2],epoch,learning_rate)\n",
    "    neuron_l.train(X,y[3],epoch,learning_rate)\n",
    "    neuron_n.train(X,y[4],epoch,learning_rate)\n",
    "\n",
    "accuracy_b = 0\n",
    "for i in range(len(X)):\n",
    "    if neuron_b.predict(X[i]) == y[0][i]:\n",
    "        accuracy_b += 1\n",
    "\n",
    "accuracy_c = 0\n",
    "for i in range(len(X)):\n",
    "    if neuron_c.predict(X[i]) == y[1][i]:\n",
    "        accuracy_c += 1\n",
    "\n",
    "accuracy_d = 0\n",
    "for i in range(len(X)):\n",
    "    if neuron_d.predict(X[i]) == y[2][i]:\n",
    "        accuracy_d += 1\n",
    "\n",
    "accuracy_l = 0\n",
    "for i in range(len(X)):\n",
    "    if neuron_l.predict(X[i]) == y[3][i]:\n",
    "        accuracy_l += 1\n",
    "\n",
    "accuracy_n = 0\n",
    "for i in range(len(X)):\n",
    "    if neuron_n.predict(X[i]) == y[4][i]:\n",
    "        accuracy_n += 1\n",
    "\n",
    "print(\"Accuracy of B: %.2f\" % (accuracy_b/len(X)*100) + \"%\")\n",
    "print(\"Accuracy of C: %.2f\" % (accuracy_c/len(X)*100) + \"%\")\n",
    "print(\"Accuracy of D: %.2f\" % (accuracy_d/len(X)*100) + \"%\")\n",
    "print(\"Accuracy of L: %.2f\" % (accuracy_l/len(X)*100) + \"%\")\n",
    "print(\"Accuracy of N: %.2f\" % (accuracy_n/len(X)*100) + \"%\")\n",
    "\n",
    "print()\n",
    "print(\"Total accuracy: %.2f\" % ((accuracy_b+accuracy_c+accuracy_d+accuracy_l+accuracy_n)/(5*len(X))*100) + \"%\")"
   ]
  },
  {
   "cell_type": "code",
   "execution_count": 182,
   "metadata": {},
   "outputs": [
    {
     "name": "stdout",
     "output_type": "stream",
     "text": [
      "Mean Squared Error of B: 5.21\n",
      "Mean Squared Error of C: 5.66\n",
      "Mean Squared Error of D: 5.56\n",
      "Mean Squared Error of L: 4.84\n",
      "Mean Squared Error of N: 5.05\n"
     ]
    }
   ],
   "source": [
    "predicted_values_b = []\n",
    "predicted_values_c = []\n",
    "predicted_values_d = []\n",
    "predicted_values_l = []\n",
    "predicted_values_n = []\n",
    "\n",
    "for i in range(len(X)):\n",
    "    predicted_values_b.append(np.dot(X[i],neuron_b.weights) + neuron_b.bias)\n",
    "    predicted_values_c.append(np.dot(X[i],neuron_c.weights) + neuron_c.bias)\n",
    "    predicted_values_d.append(np.dot(X[i],neuron_d.weights) + neuron_d.bias)\n",
    "    predicted_values_l.append(np.dot(X[i],neuron_l.weights) + neuron_l.bias)\n",
    "    predicted_values_n.append(np.dot(X[i],neuron_n.weights) + neuron_n.bias)\n",
    "\n",
    "mse_b =[]\n",
    "mse_c =[]\n",
    "mse_d =[]\n",
    "mse_l =[]\n",
    "mse_n =[]\n",
    "\n",
    "for i in range(len(X)):\n",
    "    mse_b.append((y[0][i] - predicted_values_b[i])**2)\n",
    "    mse_c.append((y[1][i] - predicted_values_c[i])**2)\n",
    "    mse_d.append((y[2][i] - predicted_values_d[i])**2)\n",
    "    mse_l.append((y[3][i] - predicted_values_l[i])**2)\n",
    "    mse_n.append((y[4][i] - predicted_values_n[i])**2)\n",
    "\n",
    "print(\"Mean Squared Error of B: %.2f\" % sum(mse_b))\n",
    "print(\"Mean Squared Error of C: %.2f\" % sum(mse_c))\n",
    "print(\"Mean Squared Error of D: %.2f\" % sum(mse_d))\n",
    "print(\"Mean Squared Error of L: %.2f\" % sum(mse_l))\n",
    "print(\"Mean Squared Error of N: %.2f\" % sum(mse_n))"
   ]
  },
  {
   "cell_type": "markdown",
   "metadata": {},
   "source": [
    "We also observe that the MSE increases from the initial learning rate."
   ]
  },
  {
   "cell_type": "markdown",
   "metadata": {},
   "source": [
    "#### Chage Epoch\n",
    "In this part, we change epoch to observe this effect on the MSE."
   ]
  },
  {
   "cell_type": "code",
   "execution_count": 183,
   "metadata": {},
   "outputs": [
    {
     "data": {
      "text/plain": [
       "array([11.3692, 10.258 , 10.258 , 10.258 , 10.258 ])"
      ]
     },
     "execution_count": 183,
     "metadata": {},
     "output_type": "execute_result"
    }
   ],
   "source": [
    "total_error=np.zeros(5)  # Create an array to store the total error for each epoch\n",
    "\n",
    "X = patterns\n",
    "y = output_target\n",
    "learning_rate = 0.01\n",
    "epoch = [5,10,20,50,100]  # Define the epochs\n",
    "\n",
    "for j in range(5):\n",
    "    error=0\n",
    "\n",
    "    neuron_b = character_perceptron()   # Create a perceptron for each character\n",
    "    neuron_b.train(X,y[0],epoch[j],learning_rate) # Train the perceptron\n",
    "    for i in range(len(X)): # Calculate the error\n",
    "        error += (y[0][i] - (np.dot(X[i],neuron_b.weights) + neuron_b.bias))**2\n",
    "\n",
    "    neuron_c = character_perceptron()\n",
    "    neuron_c.train(X,y[1],epoch[j],learning_rate)\n",
    "    for i in range(len(X)):\n",
    "        error += (y[1][i] - (np.dot(X[i],neuron_c.weights) + neuron_c.bias))**2 \n",
    "\n",
    "    neuron_d = character_perceptron()\n",
    "    neuron_d.train(X,y[2],epoch[j],learning_rate)\n",
    "    for i in range(len(X)):\n",
    "        error += (y[2][i] - (np.dot(X[i],neuron_d.weights) + neuron_d.bias))**2\n",
    "\n",
    "    neuron_l = character_perceptron()\n",
    "    neuron_l.train(X,y[3],epoch[j],learning_rate)\n",
    "    for i in range(len(X)):\n",
    "        error += (y[3][i] - (np.dot(X[i],neuron_l.weights) + neuron_l.bias))**2\n",
    "\n",
    "    neuron_n = character_perceptron()\n",
    "    neuron_n.train(X,y[4],epoch[j],learning_rate)\n",
    "    for i in range(len(X)):\n",
    "        error += (y[4][i] - (np.dot(X[i],neuron_n.weights) + neuron_n.bias))**2\n",
    "\n",
    "    total_error[j] = error # Store the total error\n",
    "\n",
    "total_error"
   ]
  },
  {
   "cell_type": "markdown",
   "metadata": {},
   "source": [
    "As we can see, the MSE is higher for the initial epoch, then it decreases, and subsequently, it doesn't change significantly"
   ]
  },
  {
   "cell_type": "code",
   "execution_count": 184,
   "metadata": {},
   "outputs": [
    {
     "data": {
      "image/png": "[encoded data removed]",
      "text/plain": [
       "<Figure size 640x480 with 1 Axes>"
      ]
     },
     "metadata": {},
     "output_type": "display_data"
    }
   ],
   "source": [
    "plt.plot(epoch,total_error) # Plot the total error\n",
    "plt.xlabel('Epoch')\n",
    "plt.ylabel('Total Error')\n",
    "plt.show()"
   ]
  }
 ],
 "metadata": {
  "kernelspec": {
   "display_name": "Python 3",
   "language": "python",
   "name": "python3"
  },
  "language_info": {
   "codemirror_mode": {
    "name": "ipython",
    "version": 3
   },
   "file_extension": ".py",
   "mimetype": "text/x-python",
   "name": "python",
   "nbconvert_exporter": "python",
   "pygments_lexer": "ipython3",
   "version": "3.10.12"
  }
 },
 "nbformat": 4,
 "nbformat_minor": 2
}
