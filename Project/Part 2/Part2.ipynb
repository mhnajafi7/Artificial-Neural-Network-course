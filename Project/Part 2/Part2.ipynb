{
  "cells": [
    {
      "cell_type": "markdown",
      "metadata": {
        "id": "7UbZ0xe-trMT"
      },
      "source": [
        "# Neural Network Project - Part 2 - summer 2024\n",
        "### Mohammad Hossein Najafi - 97103938\n",
        "---"
      ]
    },
    {
      "cell_type": "markdown",
      "metadata": {
        "id": "A_vuK2XauDy2"
      },
      "source": [
        "### Convolution layer"
      ]
    },
    {
      "cell_type": "code",
      "execution_count": 23,
      "metadata": {
        "colab": {
          "base_uri": "https://localhost:8080/"
        },
        "id": "vRsM-IrZJwlz",
        "outputId": "cca9a34d-ce2b-4b02-dd3b-5b153ca72a5d"
      },
      "outputs": [
        {
          "name": "stdout",
          "output_type": "stream",
          "text": [
            "Convolved Output:\n",
            "[[ 0.2491 -0.1648  0.2652 -0.3406]\n",
            " [ 0.1089  0.3092 -0.2989  0.0098]\n",
            " [-0.224   0.612  -0.0912 -0.2841]\n",
            " [-0.3309  0.477  -0.2673  0.1892]]\n"
          ]
        }
      ],
      "source": [
        "import numpy as np\n",
        "\n",
        "image = np.array([\n",
        "    [0.51, 0.90, 0.88, 0.84, 0.05],\n",
        "    [0.40, 0.62, 0.22, 0.59, 0.10],\n",
        "    [0.11, 0.20, 0.74, 0.03, 0.14],\n",
        "    [0.47, 0.00, 0.85, 0.70, 0.09],\n",
        "    [0.76, 0.19, 0.72, 0.17, 0.57]\n",
        "])\n",
        "\n",
        "kernel = np.array([\n",
        "    [-0.13, 0.15],\n",
        "    [-0.51, 0.62]\n",
        "])\n",
        "\n",
        "# Convolution\n",
        "def convolution(image, kernel):\n",
        "\n",
        "    output_height = image.shape[0] - kernel.shape[0] + 1\n",
        "    output_width = image.shape[1] - kernel.shape[1] + 1\n",
        "    output = np.zeros((output_height, output_width))\n",
        "\n",
        "    for i in range(output_height):\n",
        "        for j in range(output_width):\n",
        "            output[i, j] = np.sum(image[i:i + kernel.shape[0], j:j + kernel.shape[1]] * kernel)\n",
        "\n",
        "    return output\n",
        "\n",
        "# Perform the convolution\n",
        "convolved = convolution(image, kernel)\n",
        "print(\"Convolved Output:\")\n",
        "print(convolved)\n"
      ]
    },
    {
      "cell_type": "markdown",
      "metadata": {
        "id": "E0d7U_JvuJ91"
      },
      "source": [
        "### Max-pooling layer"
      ]
    },
    {
      "cell_type": "code",
      "execution_count": 24,
      "metadata": {
        "colab": {
          "base_uri": "https://localhost:8080/"
        },
        "id": "dK8WKY2PJzAU",
        "outputId": "75a13a3f-0b82-4ec5-ab7e-0662625ebd8f"
      },
      "outputs": [
        {
          "name": "stdout",
          "output_type": "stream",
          "text": [
            "Max-Pooled Output:\n",
            "[[0.3092 0.2652]\n",
            " [0.612  0.1892]]\n"
          ]
        }
      ],
      "source": [
        "# max-pooling\n",
        "def max_pooling(input, pool_size):\n",
        "    output_shape = (\n",
        "        input.shape[0] // pool_size[0],\n",
        "        input.shape[1] // pool_size[1]\n",
        "    )\n",
        "    output = np.zeros(output_shape)\n",
        "    for y in range(0, input.shape[0], pool_size[0]):\n",
        "        for x in range(0, input.shape[1], pool_size[1]):\n",
        "            output[y // pool_size[0], x // pool_size[1]] = np.max(input[y:y + pool_size[0], x:x + pool_size[1]])\n",
        "    return output\n",
        "\n",
        "pooled = max_pooling(convolved, (2, 2))\n",
        "print(\"Max-Pooled Output:\")\n",
        "print(pooled)"
      ]
    },
    {
      "cell_type": "markdown",
      "metadata": {
        "id": "YmT-EEFvuQMO"
      },
      "source": [
        "### Sigmoid layer"
      ]
    },
    {
      "cell_type": "code",
      "execution_count": 25,
      "metadata": {
        "colab": {
          "base_uri": "https://localhost:8080/"
        },
        "id": "KdheMOSgMB73",
        "outputId": "8bb2dd2a-b048-47e3-cb37-26cff8b1c8f4"
      },
      "outputs": [
        {
          "name": "stdout",
          "output_type": "stream",
          "text": [
            "\n",
            "Output after applying sigmoid:\n",
            "[[0.57668998 0.56591413]\n",
            " [0.64839689 0.5471594 ]]\n"
          ]
        }
      ],
      "source": [
        "# Sigmoid\n",
        "def sigmoid(x):\n",
        "    return 1 / (1 + np.exp(-x))\n",
        "\n",
        "sigmoid_output = sigmoid(pooled)\n",
        "print(\"\\nOutput after applying sigmoid:\")\n",
        "print(sigmoid_output)"
      ]
    },
    {
      "cell_type": "markdown",
      "metadata": {
        "id": "D6fOCVGwuSlv"
      },
      "source": [
        "### Fully Connected layer"
      ]
    },
    {
      "cell_type": "code",
      "execution_count": 26,
      "metadata": {
        "colab": {
          "base_uri": "https://localhost:8080/"
        },
        "id": "RtoIBHM0ZaXp",
        "outputId": "b01d555c-ad2e-4c94-f4df-32a3b138a370"
      },
      "outputs": [
        {
          "name": "stdout",
          "output_type": "stream",
          "text": [
            "\n",
            "Output after fully connected layer:\n",
            "[ 0.89113209 -0.02927488]\n"
          ]
        }
      ],
      "source": [
        "# Fully Connected\n",
        "fc_weights = np.array([\n",
        "    [0.61, 0.82, 0.96, -1],\n",
        "    [0.02, -0.5, 0.23, 0.17]\n",
        "])\n",
        "fc_biases = np.array([0, 0])  # Assuming biases are zero for simplicity\n",
        "flattened = sigmoid_output.flatten()\n",
        "\n",
        "fc_output = np.dot(flattened, fc_weights.T) + fc_biases\n",
        "print(\"\\nOutput after fully connected layer:\")\n",
        "print(fc_output)"
      ]
    },
    {
      "cell_type": "markdown",
      "metadata": {
        "id": "Y57S3znjuXaC"
      },
      "source": [
        "### Backpropagation"
      ]
    },
    {
      "cell_type": "code",
      "execution_count": 36,
      "metadata": {
        "colab": {
          "base_uri": "https://localhost:8080/"
        },
        "id": "o-i1X6wcYI2n",
        "outputId": "1a04870e-d430-4a21-e4e2-4c6d0657b4c4"
      },
      "outputs": [
        {
          "name": "stdout",
          "output_type": "stream",
          "text": [
            "fully connected delta input:\n",
            "[ 0.1495  0.28    0.2055 -0.2755]\n",
            "\n",
            "fully connected delta weights:\n",
            "[[ 0.14417249  0.14147853  0.16209922  0.13678985]\n",
            " [-0.0865035  -0.08488712 -0.09725953 -0.08207391]]\n",
            "\n",
            "fully connected delta biases:\n",
            "[0.25, -0.15]\n"
          ]
        }
      ],
      "source": [
        "# Backpropagation\n",
        "delta_fc = [0.25,-0.15]\n",
        "\n",
        "# Backpropagation fully connected layer\n",
        "delta_flattened = np.dot(delta_fc, fc_weights)\n",
        "delta_fc_weights = np.outer(delta_fc, flattened)\n",
        "delta_fc_biases = delta_fc\n",
        "\n",
        "print(\"fully connected delta input:\")\n",
        "print(delta_flattened)\n",
        "print()\n",
        "print(\"fully connected delta weights:\")\n",
        "print(delta_fc_weights)\n",
        "print()\n",
        "print(\"fully connected delta biases:\")\n",
        "print(delta_fc_biases)"
      ]
    },
    {
      "cell_type": "code",
      "execution_count": 31,
      "metadata": {
        "colab": {
          "base_uri": "https://localhost:8080/"
        },
        "id": "SN1XelIzbZ25",
        "outputId": "ceed08c0-9c36-4248-b7ad-27430f245dea"
      },
      "outputs": [
        {
          "name": "stdout",
          "output_type": "stream",
          "text": [
            "sigmoid delta:\n",
            "[[ 0.03649574  0.06878349]\n",
            " [ 0.04684955 -0.06826229]]\n"
          ]
        }
      ],
      "source": [
        "# Backpropagation sigmoid layer\n",
        "sigmoid_derivative = sigmoid_output * (1 - sigmoid_output)\n",
        "delta_sigmoid = delta_flattened.reshape(sigmoid_output.shape) * sigmoid_derivative\n",
        "\n",
        "print(\"sigmoid delta:\")\n",
        "print(delta_sigmoid)"
      ]
    },
    {
      "cell_type": "code",
      "execution_count": 32,
      "metadata": {
        "colab": {
          "base_uri": "https://localhost:8080/"
        },
        "id": "ftzKokxGb1xm",
        "outputId": "f7a39a2e-908c-4d25-a5d7-5875566ff028"
      },
      "outputs": [
        {
          "name": "stdout",
          "output_type": "stream",
          "text": [
            "Max-pooling delta:\n",
            "[[ 0.          0.          0.06878349  0.        ]\n",
            " [ 0.          0.03649574  0.          0.        ]\n",
            " [ 0.          0.04684955  0.          0.        ]\n",
            " [ 0.          0.          0.         -0.06826229]]\n"
          ]
        }
      ],
      "source": [
        "# Backpropagation Max-pooling\n",
        "def max_pooling_backprop(delta, input, pool_size):\n",
        "    output = np.zeros_like(input)\n",
        "    for y in range(0, input.shape[0], pool_size[0]):\n",
        "        for x in range(0, input.shape[1], pool_size[1]):\n",
        "            patch = input[y:y + pool_size[0], x:x + pool_size[1]]\n",
        "            max_val = np.max(patch)\n",
        "            for i in range(pool_size[0]):\n",
        "                for j in range(pool_size[1]):\n",
        "                    if patch[i, j] == max_val:\n",
        "                        output[y + i, x + j] = delta[y // pool_size[0], x // pool_size[1]]\n",
        "    return output\n",
        "\n",
        "delta_pooling = max_pooling_backprop(delta_sigmoid, convolved, (2, 2))\n",
        "\n",
        "print(\"Max-pooling delta:\")\n",
        "print(delta_pooling)"
      ]
    },
    {
      "cell_type": "code",
      "execution_count": 39,
      "metadata": {
        "colab": {
          "base_uri": "https://localhost:8080/"
        },
        "id": "UYVkpRKKcG_8",
        "outputId": "996513a7-f65b-4e1c-97c3-bb1028a3cf16"
      },
      "outputs": [
        {
          "name": "stdout",
          "output_type": "stream",
          "text": [
            "Convolution delta input:\n",
            "[[ 0.          0.         -0.00894185  0.01031752  0.        ]\n",
            " [ 0.         -0.00474445 -0.02960522  0.04264576  0.        ]\n",
            " [ 0.         -0.02470327  0.02965479  0.          0.        ]\n",
            " [ 0.         -0.02389327  0.02904672  0.0088741  -0.01023934]\n",
            " [ 0.          0.          0.          0.03481377 -0.04232262]]\n",
            "\n",
            "Convolution delta kernel:\n",
            "[[0.04474314 0.09433226]\n",
            " [0.01082693 0.06850172]]\n"
          ]
        }
      ],
      "source": [
        "# Convolution backpropagation\n",
        "def convolution_backprop(image, delta, kernel_shape):\n",
        "    d_kernel = np.zeros(kernel_shape)\n",
        "    d_input = np.zeros_like(image)\n",
        "\n",
        "    for i in range(kernel_shape[0]):\n",
        "        for j in range(kernel_shape[1]):\n",
        "            d_kernel[i, j] = np.sum(image[i:image.shape[0] - kernel_shape[0] + i + 1,\n",
        "                                          j:image.shape[1] - kernel_shape[1] + j + 1] * delta)\n",
        "\n",
        "    for i in range(delta.shape[0]):\n",
        "        for j in range(delta.shape[1]):\n",
        "            d_input[i:i + kernel_shape[0], j:j + kernel_shape[1]] += kernel * delta[i, j]\n",
        "\n",
        "    return d_kernel, d_input\n",
        "\n",
        "delta_convolution, delta_input = convolution_backprop(image, delta_pooling, kernel.shape)\n",
        "\n",
        "\n",
        "print(\"Convolution delta input:\")\n",
        "print(delta_input)\n",
        "print()\n",
        "print(\"Convolution delta kernel:\")\n",
        "print(delta_convolution)"
      ]
    },
    {
      "cell_type": "markdown",
      "metadata": {
        "id": "2fwj_Sofudy9"
      },
      "source": [
        "### Updating"
      ]
    },
    {
      "cell_type": "code",
      "execution_count": 43,
      "metadata": {
        "colab": {
          "base_uri": "https://localhost:8080/"
        },
        "id": "yFfwQCDDdH3A",
        "outputId": "920d990c-f401-4aa1-ff53-611974877ddc"
      },
      "outputs": [
        {
          "name": "stdout",
          "output_type": "stream",
          "text": [
            "Updated Convolution Kernel:\n",
            "[[-0.15237157  0.10283387]\n",
            " [-0.51541346  0.58574914]]\n",
            "\n",
            "Updated Fully Connected Layer Weights:\n",
            "[[ 0.53791375  0.74926073  0.87895039 -1.06839493]\n",
            " [ 0.06325175 -0.45755644  0.27862977  0.21103696]]\n",
            "\n",
            "Updated Fully Connected Layer Biases:\n",
            "[-0.125  0.075]\n"
          ]
        }
      ],
      "source": [
        "kernel = np.array(kernel)\n",
        "delta_convolution = np.array(delta_convolution)\n",
        "fc_weights = np.array(fc_weights)\n",
        "delta_fc_weights = np.array(delta_fc_weights)\n",
        "fc_biases = np.array(fc_biases)\n",
        "delta_fc_biases = np.array(delta_fc_biases)\n",
        "delta_input = np.array(delta_input)\n",
        "\n",
        "# Weight updates with learning rate 0.5\n",
        "eta = 0.5\n",
        "\n",
        "# Update convolution kernel\n",
        "kernel_update = kernel - eta * delta_convolution\n",
        "\n",
        "# Update fully connected layer weights and biases\n",
        "fc_weights_update = fc_weights - eta * delta_fc_weights\n",
        "fc_biases_update = fc_biases - eta * delta_fc_biases\n",
        "\n",
        "print(\"Updated Convolution Kernel:\")\n",
        "print(kernel_update)\n",
        "print(\"\\nUpdated Fully Connected Layer Weights:\")\n",
        "print(fc_weights_update)\n",
        "print(\"\\nUpdated Fully Connected Layer Biases:\")\n",
        "print(fc_biases_update)"
      ]
    },
    {
      "cell_type": "markdown",
      "metadata": {
        "id": "75BFziWXugef"
      },
      "source": [
        "### Fold and Unfold"
      ]
    },
    {
      "cell_type": "code",
      "execution_count": 57,
      "metadata": {
        "colab": {
          "base_uri": "https://localhost:8080/"
        },
        "id": "eEgp4TFtpyNM",
        "outputId": "2bf74a0a-3fdc-4c08-a2fc-4b8c03a0e907"
      },
      "outputs": [
        {
          "name": "stdout",
          "output_type": "stream",
          "text": [
            "Convolved Output:\n",
            "[[ 0.24910003 -0.16479997  0.26520002 -0.34059998]\n",
            " [ 0.10890001  0.30920002 -0.2989      0.00980001]\n",
            " [-0.22399999  0.612      -0.09120002 -0.2841    ]\n",
            " [-0.33089998  0.47700003 -0.2673      0.18919998]]\n",
            "Max-Pooled Output:\n",
            "[[0.30920002 0.26520002]\n",
            " [0.612      0.18919998]]\n",
            "\n",
            "Output after applying sigmoid:\n",
            "[[0.57668996 0.56591415]\n",
            " [0.6483969  0.5471594 ]]\n",
            "\n",
            "Output after fully connected layer:\n",
            "[ 0.89113214 -0.0292749 ]\n",
            "fully connected delta input:\n",
            "[ 0.1495  0.28    0.2055 -0.2755]\n",
            "\n",
            "fully connected delta weights:\n",
            "[[ 0.14417249  0.14147854  0.16209923  0.13678984]\n",
            " [-0.08650349 -0.08488712 -0.09725954 -0.08207391]]\n",
            "\n",
            "fully connected delta biases:\n",
            "[0.25, -0.15]\n",
            "sigmoid delta:\n",
            "[[ 0.03649574  0.06878349]\n",
            " [ 0.04684955 -0.06826228]]\n",
            "Max-pooling delta:\n",
            "[[ 0.          0.          0.06878349  0.        ]\n",
            " [ 0.          0.03649574  0.          0.        ]\n",
            " [ 0.          0.04684955  0.          0.        ]\n",
            " [ 0.          0.          0.         -0.06826229]]\n",
            "Convolution delta input:\n",
            "[[ 0.          0.         -0.00894185  0.01031752  0.        ]\n",
            " [ 0.         -0.00474445 -0.02960522  0.04264576  0.        ]\n",
            " [ 0.         -0.02470327  0.02965479  0.          0.        ]\n",
            " [ 0.         -0.02389327  0.02904672  0.0088741  -0.01023934]\n",
            " [ 0.          0.          0.          0.03481377 -0.04232262]]\n",
            "\n",
            "Convolution delta kernel:\n",
            "[[0.04474314 0.09433226]\n",
            " [0.01082693 0.06850172]]\n",
            "\n",
            "Updated Convolution Kernel:\n",
            "[[-0.15237157  0.10283387]\n",
            " [-0.51541346  0.58574914]]\n",
            "\n",
            "Updated Fully Connected Layer Weights:\n",
            "[[ 0.53791376  0.74926073  0.87895039 -1.06839492]\n",
            " [ 0.06325175 -0.45755644  0.27862977  0.21103695]]\n",
            "\n",
            "Updated Fully Connected Layer Biases:\n",
            "[-0.125  0.075]\n"
          ]
        }
      ],
      "source": [
        "import torch\n",
        "import torch.nn.functional as F\n",
        "\n",
        "\n",
        "# Convert image and kernel to PyTorch tensors\n",
        "image_tensor = torch.tensor(image, dtype=torch.float32).unsqueeze(0).unsqueeze(0)\n",
        "kernel_tensor = torch.tensor(kernel, dtype=torch.float32).unsqueeze(0).unsqueeze(0)\n",
        "\n",
        "# Convolution using Unfold and Fold\n",
        "def convolution_unfold(image_tensor, kernel_tensor):\n",
        "    unfold = F.unfold(image_tensor, kernel_size=(2, 2))\n",
        "    kernel_flat = kernel_tensor.view(1, -1)\n",
        "    convolved = kernel_flat @ unfold\n",
        "    output_height = image_tensor.shape[2] - kernel_tensor.shape[2] + 1\n",
        "    output_width = image_tensor.shape[3] - kernel_tensor.shape[3] + 1\n",
        "    convolved = convolved.view(1, 1, output_height, output_width)\n",
        "    return convolved.squeeze().numpy()\n",
        "\n",
        "# Perform the convolution\n",
        "convolved = convolution_unfold(image_tensor, kernel_tensor)\n",
        "print(\"Convolved Output:\")\n",
        "print(convolved)\n",
        "\n",
        "# Max-pooling\n",
        "def max_pooling(input, pool_size):\n",
        "    input_tensor = torch.tensor(input, dtype=torch.float32).unsqueeze(0).unsqueeze(0)\n",
        "    pooled = F.max_pool2d(input_tensor, kernel_size=pool_size)\n",
        "    return pooled.squeeze().numpy()\n",
        "\n",
        "pooled = max_pooling(convolved, (2, 2))\n",
        "print(\"Max-Pooled Output:\")\n",
        "print(pooled)\n",
        "\n",
        "# Sigmoid\n",
        "def sigmoid(x):\n",
        "    return 1 / (1 + np.exp(-x))\n",
        "\n",
        "sigmoid_output = sigmoid(pooled)\n",
        "print(\"\\nOutput after applying sigmoid:\")\n",
        "print(sigmoid_output)\n",
        "\n",
        "# Fully Connected\n",
        "fc_weights = np.array([\n",
        "    [0.61, 0.82, 0.96, -1],\n",
        "    [0.02, -0.5, 0.23, 0.17]\n",
        "])\n",
        "fc_biases = np.array([0, 0])  # Assuming biases are zero for simplicity\n",
        "flattened = sigmoid_output.flatten()\n",
        "\n",
        "fc_output = np.dot(flattened, fc_weights.T) + fc_biases\n",
        "print(\"\\nOutput after fully connected layer:\")\n",
        "print(fc_output)\n",
        "\n",
        "# Backpropagation\n",
        "delta_fc = [0.25, -0.15]\n",
        "\n",
        "# Backpropagation fully connected layer\n",
        "delta_flattened = np.dot(delta_fc, fc_weights)\n",
        "delta_fc_weights = np.outer(delta_fc, flattened)\n",
        "delta_fc_biases = delta_fc\n",
        "\n",
        "print(\"fully connected delta input:\")\n",
        "print(delta_flattened)\n",
        "print()\n",
        "print(\"fully connected delta weights:\")\n",
        "print(delta_fc_weights)\n",
        "print()\n",
        "print(\"fully connected delta biases:\")\n",
        "print(delta_fc_biases)\n",
        "\n",
        "# Backpropagation sigmoid layer\n",
        "sigmoid_derivative = sigmoid_output * (1 - sigmoid_output)\n",
        "delta_sigmoid = delta_flattened.reshape(sigmoid_output.shape) * sigmoid_derivative\n",
        "\n",
        "print(\"sigmoid delta:\")\n",
        "print(delta_sigmoid)\n",
        "\n",
        "# Backpropagation Max-pooling\n",
        "def max_pooling_backprop(delta, input, pool_size):\n",
        "    output = np.zeros_like(input)\n",
        "    for y in range(0, input.shape[0], pool_size[0]):\n",
        "        for x in range(0, input.shape[1], pool_size[1]):\n",
        "            patch = input[y:y + pool_size[0], x:x + pool_size[1]]\n",
        "            max_val = np.max(patch)\n",
        "            for i in range(pool_size[0]):\n",
        "                for j in range(pool_size[1]):\n",
        "                    if patch[i, j] == max_val:\n",
        "                        output[y + i, x + j] = delta[y // pool_size[0], x // pool_size[1]]\n",
        "    return output\n",
        "\n",
        "delta_pooling = max_pooling_backprop(delta_sigmoid, convolved, (2, 2))\n",
        "\n",
        "print(\"Max-pooling delta:\")\n",
        "print(delta_pooling)\n",
        "\n",
        "# Convolution backpropagation using Fold and Unfold\n",
        "def convolution_backprop_unfold(image, delta, kernel_shape):\n",
        "    image_tensor = torch.tensor(image, dtype=torch.float32).unsqueeze(0).unsqueeze(0)\n",
        "    delta_tensor = torch.tensor(delta, dtype=torch.float32).unsqueeze(0).unsqueeze(0)\n",
        "\n",
        "    # Use unfold to get patches from the image\n",
        "    unfold_image = F.unfold(image_tensor, kernel_size=kernel_shape)\n",
        "    unfold_delta = F.unfold(delta_tensor, kernel_size=(1, 1))\n",
        "\n",
        "    # Calculate the gradient for the kernel\n",
        "    d_kernel = torch.matmul(unfold_delta, unfold_image.transpose(1, 2)).view(1, 1, *kernel_shape).squeeze().numpy()\n",
        "\n",
        "    # Use fold to aggregate gradients back to input space\n",
        "    delta_expanded = unfold_delta.view(1, -1, delta_tensor.shape[2] * delta_tensor.shape[3])\n",
        "    d_input_unfold = torch.matmul(kernel_tensor.view(1, -1).t(), delta_expanded)\n",
        "    d_input = F.fold(d_input_unfold, output_size=image_tensor.shape[2:], kernel_size=kernel_shape)\n",
        "\n",
        "    return d_kernel, d_input.squeeze().numpy()\n",
        "\n",
        "delta_convolution, delta_input = convolution_backprop_unfold(image, delta_pooling, kernel.shape)\n",
        "\n",
        "print(\"Convolution delta input:\")\n",
        "print(delta_input)\n",
        "print()\n",
        "print(\"Convolution delta kernel:\")\n",
        "print(delta_convolution)\n",
        "\n",
        "kernel = np.array(kernel)\n",
        "delta_convolution = np.array(delta_convolution)\n",
        "fc_weights = np.array(fc_weights)\n",
        "delta_fc_weights = np.array(delta_fc_weights)\n",
        "fc_biases = np.array(fc_biases)\n",
        "delta_fc_biases = np.array(delta_fc_biases)\n",
        "delta_input = np.array(delta_input)\n",
        "\n",
        "# Weight updates with learning rate 0.5\n",
        "eta = 0.5\n",
        "\n",
        "kernel_update = kernel - eta * delta_convolution\n",
        "fc_weights_update = fc_weights - eta * delta_fc_weights\n",
        "fc_biases_update = fc_biases - eta * delta_fc_biases\n",
        "\n",
        "print(\"\\nUpdated Convolution Kernel:\")\n",
        "print(kernel_update)\n",
        "print(\"\\nUpdated Fully Connected Layer Weights:\")\n",
        "print(fc_weights_update)\n",
        "print(\"\\nUpdated Fully Connected Layer Biases:\")\n",
        "print(fc_biases_update)\n"
      ]
    }
  ],
  "metadata": {
    "colab": {
      "provenance": []
    },
    "kernelspec": {
      "display_name": "Python 3",
      "name": "python3"
    },
    "language_info": {
      "name": "python"
    }
  },
  "nbformat": 4,
  "nbformat_minor": 0
}
